{
 "cells": [
  {
   "cell_type": "markdown",
   "metadata": {},
   "source": [
    "Installing sodapy and pandas"
   ]
  },
  {
   "cell_type": "code",
   "execution_count": 1,
   "metadata": {},
   "outputs": [],
   "source": [
    "%%capture\n",
    "!pip install sodapy pandas numpy"
   ]
  },
  {
   "cell_type": "markdown",
   "metadata": {},
   "source": [
    "Available columns:\n",
    "['address_type', 'agency', 'agency_name', 'bbl', 'borough', 'city', 'closed_date', 'community_board', 'complaint_type', 'created_date', 'cross_street_1', 'cross_street_2', 'descriptor', 'due_date', 'facility_type', 'incident_address', 'incident_zip', 'intersection_street_1', 'intersection_street_2', 'latitude', 'location', 'location_type', 'longitude', 'open_data_channel_type', 'park_borough', 'park_facility_name', 'resolution_action_updated_date', 'resolution_description', 'status', 'street_name', 'unique_key', 'x_coordinate_state_plane', 'y_coordinate_state_plane']"
   ]
  },
  {
   "cell_type": "code",
   "execution_count": 7,
   "metadata": {},
   "outputs": [
    {
     "name": "stderr",
     "output_type": "stream",
     "text": [
      "WARNING:root:Requests made without an app_token will be subject to strict throttling limits.\n"
     ]
    },
    {
     "name": "stdout",
     "output_type": "stream",
     "text": [
      "  address_type agency                                        agency_name  \\\n",
      "0      ADDRESS    HPD  Department of Housing Preservation and Develop...   \n",
      "\n",
      "          bbl   borough      city              closed_date community_board  \\\n",
      "0  3019570030  BROOKLYN  BROOKLYN  2017-01-11T21:02:00.000     02 BROOKLYN   \n",
      "\n",
      "   complaint_type             created_date           ...             \\\n",
      "0  HEAT/HOT WATER  2017-01-10T11:00:43.000           ...              \n",
      "\n",
      "  open_data_channel_type park_borough park_facility_name  \\\n",
      "0                 ONLINE     BROOKLYN        Unspecified   \n",
      "\n",
      "  resolution_action_updated_date  \\\n",
      "0        2017-01-11T21:02:00.000   \n",
      "\n",
      "                              resolution_description  status    street_name  \\\n",
      "0  The complaint you filed is a duplicate of a co...  Closed  GREENE AVENUE   \n",
      "\n",
      "  unique_key x_coordinate_state_plane y_coordinate_state_plane  \n",
      "0   35220081                   992382                   189258  \n",
      "\n",
      "[1 rows x 28 columns]\n"
     ]
    }
   ],
   "source": [
    "import pandas as pd\n",
    "import numpy as np\n",
    "from sodapy import Socrata\n",
    "\n",
    "# Unauthenticated client only works with public data sets. Note 'None'\n",
    "# in place of application token, and no username or password:\n",
    "client = Socrata(\"data.cityofnewyork.us\", None)\n",
    "\n",
    "# First 50000 results, recieved as JSON & returned as dict\n",
    "# Columns converted to snake case, special chars removed,\n",
    "# dates and location formatted\n",
    "\n",
    "results = client.get(\"fhrw-4uyv\", limit=1)\n",
    "\n",
    "# Convert to pandas DataFrame\n",
    "records = pd.DataFrame.from_records(results)\n",
    "\n",
    "#print example record\n",
    "print(records)"
   ]
  },
  {
   "cell_type": "markdown",
   "metadata": {},
   "source": [
    "### Finding most common complains for 2017 year"
   ]
  },
  {
   "cell_type": "code",
   "execution_count": 24,
   "metadata": {},
   "outputs": [
    {
     "name": "stdout",
     "output_type": "stream",
     "text": [
      "              complaint_type  count_complaint_type\n",
      "174      Noise - Residential                230152\n",
      "163           HEAT/HOT WATER                213521\n",
      "164          Illegal Parking                146122\n",
      "203         Blocked Driveway                136097\n",
      "125         Street Condition                 93265\n",
      "149   Street Light Condition                 84195\n",
      "87      UNSANITARY CONDITION                 79282\n",
      "103  Noise - Street/Sidewalk                 73085\n",
      "2               Water System                 65101\n",
      "106                    Noise                 60171\n"
     ]
    }
   ],
   "source": [
    "results = client.get(\"fhrw-4uyv\",\n",
    "                     where=\"created_date BETWEEN '2017-01-01T00:00:00.000' and '2018-01-01T00:00:00.000'\",\n",
    "                     group=\"complaint_type\",\n",
    "                     select=\"complaint_type, count(complaint_type)\")\n",
    "\n",
    "\n",
    "# Convert to pandas DataFrame\n",
    "records = pd.DataFrame.from_records(results)\n",
    "records.count_complaint_type = records.count_complaint_type.astype(int)\n",
    "print(records.sort_values('count_complaint_type', ascending=False)[:10])"
   ]
  },
  {
   "cell_type": "markdown",
   "metadata": {},
   "source": [
    "### Consider only the 10 most common overall complaint types. For each borough, how many of each of those 10 types were there in 2017?"
   ]
  },
  {
   "cell_type": "code",
   "execution_count": 34,
   "metadata": {},
   "outputs": [
    {
     "name": "stdout",
     "output_type": "stream",
     "text": [
      "          borough           complaint_type count_complaint_type\n",
      "26          BRONX         Blocked Driveway                24574\n",
      "11          BRONX           HEAT/HOT WATER                68718\n",
      "42          BRONX          Illegal Parking                16122\n",
      "21          BRONX                    Noise                 3134\n",
      "18          BRONX      Noise - Residential                57663\n",
      "13          BRONX  Noise - Street/Sidewalk                14025\n",
      "17          BRONX         Street Condition                11761\n",
      "47          BRONX   Street Light Condition                18410\n",
      "5           BRONX     UNSANITARY CONDITION                24561\n",
      "56          BRONX             Water System                10221\n",
      "43       BROOKLYN         Blocked Driveway                49302\n",
      "55       BROOKLYN           HEAT/HOT WATER                66984\n",
      "34       BROOKLYN          Illegal Parking                55380\n",
      "37       BROOKLYN                    Noise                15421\n",
      "40       BROOKLYN      Noise - Residential                67629\n",
      "51       BROOKLYN  Noise - Street/Sidewalk                21313\n",
      "41       BROOKLYN         Street Condition                25432\n",
      "7        BROOKLYN   Street Light Condition                22458\n",
      "45       BROOKLYN     UNSANITARY CONDITION                26659\n",
      "9        BROOKLYN             Water System                19809\n",
      "35      MANHATTAN         Blocked Driveway                 3428\n",
      "12      MANHATTAN           HEAT/HOT WATER                46529\n",
      "44      MANHATTAN          Illegal Parking                19687\n",
      "19      MANHATTAN                    Noise                29002\n",
      "22      MANHATTAN      Noise - Residential                51026\n",
      "10      MANHATTAN  Noise - Street/Sidewalk                29147\n",
      "20      MANHATTAN         Street Condition                14840\n",
      "48      MANHATTAN   Street Light Condition                11077\n",
      "2       MANHATTAN     UNSANITARY CONDITION                14635\n",
      "50      MANHATTAN             Water System                10930\n",
      "23         QUEENS         Blocked Driveway                54290\n",
      "3          QUEENS           HEAT/HOT WATER                29217\n",
      "39         QUEENS          Illegal Parking                46065\n",
      "28         QUEENS                    Noise                10685\n",
      "30         QUEENS      Noise - Residential                46396\n",
      "1          QUEENS  Noise - Street/Sidewalk                 7530\n",
      "32         QUEENS         Street Condition                30629\n",
      "54         QUEENS   Street Light Condition                24258\n",
      "8          QUEENS     UNSANITARY CONDITION                11474\n",
      "46         QUEENS             Water System                18792\n",
      "16  STATEN ISLAND         Blocked Driveway                 3465\n",
      "0   STATEN ISLAND           HEAT/HOT WATER                 2073\n",
      "36  STATEN ISLAND          Illegal Parking                 7574\n",
      "33  STATEN ISLAND                    Noise                 1926\n",
      "24  STATEN ISLAND      Noise - Residential                 6744\n",
      "6   STATEN ISLAND  Noise - Street/Sidewalk                  853\n",
      "25  STATEN ISLAND         Street Condition                10560\n",
      "52  STATEN ISLAND   Street Light Condition                 6604\n",
      "14  STATEN ISLAND     UNSANITARY CONDITION                 1953\n",
      "49  STATEN ISLAND             Water System                 5349\n",
      "15    Unspecified         Blocked Driveway                 1038\n",
      "38    Unspecified          Illegal Parking                 1294\n",
      "31    Unspecified                    Noise                    3\n",
      "29    Unspecified      Noise - Residential                  694\n",
      "4     Unspecified  Noise - Street/Sidewalk                  217\n",
      "27    Unspecified         Street Condition                   43\n",
      "53    Unspecified   Street Light Condition                 1388\n"
     ]
    }
   ],
   "source": [
    "ten_common_overall_complains = records.sort_values('count_complaint_type', ascending=False)[:10]\n",
    "\n",
    "where_clause = \"(complaint_type = '{}'\".format(ten_common_overall_complains.iloc[0]['complaint_type'])\n",
    "for complaint_type in ten_common_overall_complains['complaint_type'][1:]:\n",
    "    where_clause += \" OR complaint_type = '{}'\".format(complaint_type)\n",
    "where_clause += \")\"\n",
    "\n",
    "boroughs = client.get(\"fhrw-4uyv\",\n",
    "                     where=\"{} AND created_date BETWEEN '2017-01-01T00:00:00.000' and '2018-01-01T00:00:00.000'\".format(where_clause),\n",
    "                     group=\"borough,complaint_type\",\n",
    "                     select=\"borough, complaint_type, count(complaint_type)\")\n",
    "boroughs = pd.DataFrame.from_records(boroughs)\n",
    "\n",
    "print(boroughs.sort_values(['borough', 'complaint_type']))"
   ]
  },
  {
   "cell_type": "markdown",
   "metadata": {},
   "source": [
    "### Consider only the 10 most common overall complaint types.  For the 10 most populous zip codes, how many of each of those 10 types were there in 2017?"
   ]
  },
  {
   "cell_type": "code",
   "execution_count": 53,
   "metadata": {},
   "outputs": [
    {
     "name": "stdout",
     "output_type": "stream",
     "text": [
      "            complaint_type count_complaint_type incident_zip\n",
      "0         Blocked Driveway                 2203        11226\n",
      "1           HEAT/HOT WATER                 7569        11226\n",
      "2          Illegal Parking                 1076        11226\n",
      "3                    Noise                  440        11226\n",
      "4      Noise - Residential                 4854        11226\n",
      "5  Noise - Street/Sidewalk                 1831        11226\n",
      "6         Street Condition                  491        11226\n",
      "7   Street Light Condition                  202        11226\n",
      "8     UNSANITARY CONDITION                 3155        11226\n",
      "9             Water System                  406        11226\n",
      "            complaint_type count_complaint_type incident_zip\n",
      "0         Blocked Driveway                 3042        11385\n",
      "1           HEAT/HOT WATER                 1526        11385\n",
      "2          Illegal Parking                 4135        11385\n",
      "3                    Noise                  507        11385\n",
      "4      Noise - Residential                 2609        11385\n",
      "5  Noise - Street/Sidewalk                  607        11385\n",
      "6         Street Condition                 1232        11385\n",
      "7   Street Light Condition                  791        11385\n",
      "8     UNSANITARY CONDITION                  647        11385\n",
      "9             Water System                 1240        11385\n",
      "            complaint_type count_complaint_type incident_zip\n",
      "0         Blocked Driveway                 2068        10467\n",
      "1           HEAT/HOT WATER                 6041        10467\n",
      "2          Illegal Parking                  986        10467\n",
      "3                    Noise                  285        10467\n",
      "4      Noise - Residential                 5807        10467\n",
      "5  Noise - Street/Sidewalk                  713        10467\n",
      "6         Street Condition                  612        10467\n",
      "7   Street Light Condition                  407        10467\n",
      "8     UNSANITARY CONDITION                 2192        10467\n",
      "9             Water System                  560        10467\n",
      "            complaint_type count_complaint_type incident_zip\n",
      "0         Blocked Driveway                 2062        11207\n",
      "1           HEAT/HOT WATER                 2461        11207\n",
      "2          Illegal Parking                 1500        11207\n",
      "3                    Noise                  199        11207\n",
      "4      Noise - Residential                 3061        11207\n",
      "5  Noise - Street/Sidewalk                  558        11207\n",
      "6         Street Condition                 1142        11207\n",
      "7   Street Light Condition                  932        11207\n",
      "8     UNSANITARY CONDITION                 1621        11207\n",
      "9             Water System                  757        11207\n",
      "            complaint_type count_complaint_type incident_zip\n",
      "0         Blocked Driveway                 1515        10453\n",
      "1           HEAT/HOT WATER                 5822        10453\n",
      "2          Illegal Parking                  633        10453\n",
      "3                    Noise                  129        10453\n",
      "4      Noise - Residential                 3478        10453\n",
      "5  Noise - Street/Sidewalk                 1124        10453\n",
      "6         Street Condition                  417        10453\n",
      "7   Street Light Condition                  192        10453\n",
      "8     UNSANITARY CONDITION                 2055        10453\n",
      "9             Water System                  662        10453\n",
      "            complaint_type count_complaint_type incident_zip\n",
      "0         Blocked Driveway                 1029        10458\n",
      "1           HEAT/HOT WATER                 6707        10458\n",
      "2          Illegal Parking                  507        10458\n",
      "3                    Noise                  152        10458\n",
      "4      Noise - Residential                 3966        10458\n",
      "5  Noise - Street/Sidewalk                  978        10458\n",
      "6         Street Condition                  417        10458\n",
      "7   Street Light Condition                  135        10458\n",
      "8     UNSANITARY CONDITION                 2048        10458\n",
      "9             Water System                  426        10458\n",
      "            complaint_type count_complaint_type incident_zip\n",
      "0         Blocked Driveway                  896        10452\n",
      "1           HEAT/HOT WATER                 5009        10452\n",
      "2          Illegal Parking                  569        10452\n",
      "3                    Noise                  136        10452\n",
      "4      Noise - Residential                 4299        10452\n",
      "5  Noise - Street/Sidewalk                 1309        10452\n",
      "6         Street Condition                  333        10452\n",
      "7   Street Light Condition                  290        10452\n",
      "8     UNSANITARY CONDITION                 2193        10452\n",
      "9             Water System                  752        10452\n",
      "            complaint_type count_complaint_type incident_zip\n",
      "0         Blocked Driveway                  975        10468\n",
      "1           HEAT/HOT WATER                 5371        10468\n",
      "2          Illegal Parking                  995        10468\n",
      "3                    Noise                  189        10468\n",
      "4      Noise - Residential                 5497        10468\n",
      "5  Noise - Street/Sidewalk                 1464        10468\n",
      "6         Street Condition                  347        10468\n",
      "7   Street Light Condition                  228        10468\n",
      "8     UNSANITARY CONDITION                 1559        10468\n",
      "9             Water System                  487        10468\n",
      "            complaint_type count_complaint_type incident_zip\n",
      "0         Blocked Driveway                 2756        11208\n",
      "1           HEAT/HOT WATER                 2052        11208\n",
      "2          Illegal Parking                 2150        11208\n",
      "3                    Noise                  188        11208\n",
      "4      Noise - Residential                 2795        11208\n",
      "5  Noise - Street/Sidewalk                  825        11208\n",
      "6         Street Condition                  816        11208\n",
      "7   Street Light Condition                  566        11208\n",
      "8     UNSANITARY CONDITION                 1341        11208\n",
      "9             Water System                  710        11208\n",
      "            complaint_type count_complaint_type incident_zip\n",
      "0         Blocked Driveway                 1701        11221\n",
      "1           HEAT/HOT WATER                 2247        11221\n",
      "2          Illegal Parking                  789        11221\n",
      "3                    Noise                  658        11221\n",
      "4      Noise - Residential                 4016        11221\n",
      "5  Noise - Street/Sidewalk                 1149        11221\n",
      "6         Street Condition                  593        11221\n",
      "7   Street Light Condition                  522        11221\n",
      "8     UNSANITARY CONDITION                 1033        11221\n",
      "9             Water System                  612        11221\n"
     ]
    }
   ],
   "source": [
    "# find most populous zip codes\n",
    "zip_codes = client.get(\"fhrw-4uyv\",\n",
    "                     where=\"created_date BETWEEN '2017-01-01T00:00:00.000' and '2018-01-01T00:00:00.000'\",\n",
    "                     group=\"incident_zip\",\n",
    "                     select=\"incident_zip, count(incident_zip)\")\n",
    "\n",
    "\n",
    "# Convert to pandas DataFrame\n",
    "zip_codes = pd.DataFrame.from_records(zip_codes)\n",
    "zip_codes.count_incident_zip = zip_codes.count_incident_zip.astype(int)\n",
    "zip_codes = zip_codes.sort_values('count_incident_zip', ascending=False)[:10]\n",
    "#print(zip_codes)\n",
    "\n",
    "where_clause = \"(complaint_type = '{}'\".format(ten_common_overall_complains.iloc[0]['complaint_type'])\n",
    "for complaint_type in ten_common_overall_complains['complaint_type'][1:]:\n",
    "    where_clause += \" OR complaint_type = '{}'\".format(complaint_type)\n",
    "where_clause += \")\"\n",
    "\n",
    "for zip_code in zip_codes['incident_zip']:\n",
    "    #print(zip_code, \"*****\")\n",
    "    #print(\"{} AND incident_zip = '{}' AND created_date BETWEEN '2017-01-01T00:00:00.000' and '2018-01-01T00:00:00.000'\".format(where_clause, zip_code))\n",
    "    incident_zip = client.get(\"fhrw-4uyv\",\n",
    "                         where=\"{} AND incident_zip = '{}' AND created_date BETWEEN '2017-01-01T00:00:00.000' and '2018-01-01T00:00:00.000'\".format(where_clause, zip_code),\n",
    "                         group=\"incident_zip, complaint_type\",\n",
    "                         select=\"incident_zip, complaint_type, count(complaint_type)\")\n",
    "    incident_zip = pd.DataFrame.from_records(incident_zip)\n",
    "\n",
    "    print(incident_zip.sort_values(['incident_zip', 'complaint_type']))"
   ]
  },
  {
   "cell_type": "markdown",
   "metadata": {},
   "source": [
    "### Considering all complaint types. Which boroughs are the biggest \"complainers\" relative to the size of the population in 2017? "
   ]
  },
  {
   "cell_type": "code",
   "execution_count": 91,
   "metadata": {},
   "outputs": [
    {
     "name": "stderr",
     "output_type": "stream",
     "text": [
      "WARNING:root:Requests made without an app_token will be subject to strict throttling limits.\n"
     ]
    },
    {
     "name": "stdout",
     "output_type": "stream",
     "text": [
      "         borough  count_complaint_type  fips_code  population  relative\n",
      "1         QUEENS                586925      36081     2230545  3.800392\n",
      "0  STATEN ISLAND                126720      36085      468730  3.698943\n",
      "2      MANHATTAN                480304      36061     1586184  3.302458\n",
      "3       BROOKLYN                760970      36047     2504706  3.291465\n",
      "4          BRONX                449056      36005     1384794  3.083789\n"
     ]
    }
   ],
   "source": [
    "results = client.get(\"fhrw-4uyv\",\n",
    "                     where=\"created_date BETWEEN '2017-01-01T00:00:00.000' and '2018-01-01T00:00:00.000'\",\n",
    "                     group=\"borough\",\n",
    "                     select=\"borough, count(complaint_type)\")\n",
    "\n",
    "\n",
    "# Convert to pandas DataFrame\n",
    "borough_complains = pd.DataFrame.from_records(results)\n",
    "borough_complains = borough_complains.drop([4])\n",
    "borough_complains.count_complaint_type = borough_complains.count_complaint_type.astype(int)\n",
    "borough_complains = borough_complains.sort_values('borough', ascending=False)[:10]\n",
    "borough_complains = borough_complains.reset_index(drop=True)\n",
    "#print(borough_complains)\n",
    "\n",
    "'''\n",
    "FIPS Codes for NYC boroughs:\n",
    "005 - Bronx\n",
    "047 - Kings (Brooklyn)\n",
    "061 - New York (Manhattan)\n",
    "081 - Queens\n",
    "085 - Richmond (Staten Island)\n",
    "\n",
    "Should be prefixed by 36 for state of NY\n",
    "36005 - Bronx\n",
    "36047 - Kings (Brooklyn)\n",
    "36061 - New York (Manhattan)\n",
    "36081 - Queens\n",
    "36085 - Richmond (Staten Island)\n",
    "'''\n",
    "\n",
    "borough_complains['fips_code'] = pd.Series([36085, 36081, 36061, 36047, 36005])\n",
    "#print(borough_complains)\n",
    "\n",
    "fips_codes = \"(fips_code = 36085\"\n",
    "for code in [36081, 36061, 36047, 36005]:\n",
    "    fips_codes += \" OR fips_code = {}\".format(code)\n",
    "fips_codes +=\")\"\n",
    "#print(fips_codes)\n",
    "pop_client = Socrata(\"data.ny.gov\", None)\n",
    "results = pop_client.get(\"9xc5-th43\",\n",
    "                     where=\"year = 2010 AND program_type = 'Census Base Population' AND {}\".format(fips_codes),\n",
    "                     select=\"fips_code, population\")\n",
    "\n",
    "# Convert to pandas DataFrame\n",
    "borough_population = pd.DataFrame.from_records(results)\n",
    "borough_population.population = borough_population.population.astype(int)\n",
    "borough_population.fips_code = borough_population.fips_code.astype(int)\n",
    "#print(borough_population)\n",
    "brough_merged = pd.merge(borough_complains, borough_population, on = 'fips_code')\n",
    "#print(brough_merged)\n",
    "\n",
    "brough_merged['relative'] = brough_merged['population'] / brough_merged['count_complaint_type']\n",
    "print(brough_merged.sort_values('relative', ascending=False))"
   ]
  },
  {
   "cell_type": "markdown",
   "metadata": {},
   "source": [
    "So, Queens borough is biggest complainer relativaly to population."
   ]
  }
 ],
 "metadata": {
  "kernelspec": {
   "display_name": "Python 3",
   "language": "python",
   "name": "python3"
  },
  "language_info": {
   "codemirror_mode": {
    "name": "ipython",
    "version": 3
   },
   "file_extension": ".py",
   "mimetype": "text/x-python",
   "name": "python",
   "nbconvert_exporter": "python",
   "pygments_lexer": "ipython3",
   "version": "3.6.3"
  }
 },
 "nbformat": 4,
 "nbformat_minor": 2
}
