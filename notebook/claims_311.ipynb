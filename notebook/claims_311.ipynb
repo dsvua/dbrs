{
 "cells": [
  {
   "cell_type": "markdown",
   "metadata": {},
   "source": [
    "Installing sodapy and pandas"
   ]
  },
  {
   "cell_type": "code",
   "execution_count": 1,
   "metadata": {},
   "outputs": [],
   "source": [
    "%%capture\n",
    "!pip install sodapy pandas numpy"
   ]
  },
  {
   "cell_type": "markdown",
   "metadata": {},
   "source": [
    "Available columns:\n",
    "['address_type', 'agency', 'agency_name', 'bbl', 'borough', 'city', 'closed_date', 'community_board', 'complaint_type', 'created_date', 'cross_street_1', 'cross_street_2', 'descriptor', 'due_date', 'facility_type', 'incident_address', 'incident_zip', 'intersection_street_1', 'intersection_street_2', 'latitude', 'location', 'location_type', 'longitude', 'open_data_channel_type', 'park_borough', 'park_facility_name', 'resolution_action_updated_date', 'resolution_description', 'status', 'street_name', 'unique_key', 'x_coordinate_state_plane', 'y_coordinate_state_plane']"
   ]
  },
  {
   "cell_type": "code",
   "execution_count": 7,
   "metadata": {},
   "outputs": [
    {
     "name": "stderr",
     "output_type": "stream",
     "text": [
      "WARNING:root:Requests made without an app_token will be subject to strict throttling limits.\n"
     ]
    },
    {
     "name": "stdout",
     "output_type": "stream",
     "text": [
      "  address_type agency                                        agency_name  \\\n",
      "0      ADDRESS    HPD  Department of Housing Preservation and Develop...   \n",
      "\n",
      "          bbl   borough      city              closed_date community_board  \\\n",
      "0  3019570030  BROOKLYN  BROOKLYN  2017-01-11T21:02:00.000     02 BROOKLYN   \n",
      "\n",
      "   complaint_type             created_date           ...             \\\n",
      "0  HEAT/HOT WATER  2017-01-10T11:00:43.000           ...              \n",
      "\n",
      "  open_data_channel_type park_borough park_facility_name  \\\n",
      "0                 ONLINE     BROOKLYN        Unspecified   \n",
      "\n",
      "  resolution_action_updated_date  \\\n",
      "0        2017-01-11T21:02:00.000   \n",
      "\n",
      "                              resolution_description  status    street_name  \\\n",
      "0  The complaint you filed is a duplicate of a co...  Closed  GREENE AVENUE   \n",
      "\n",
      "  unique_key x_coordinate_state_plane y_coordinate_state_plane  \n",
      "0   35220081                   992382                   189258  \n",
      "\n",
      "[1 rows x 28 columns]\n"
     ]
    }
   ],
   "source": [
    "import pandas as pd\n",
    "import numpy as np\n",
    "from sodapy import Socrata\n",
    "\n",
    "# Unauthenticated client only works with public data sets. Note 'None'\n",
    "# in place of application token, and no username or password:\n",
    "client = Socrata(\"data.cityofnewyork.us\", None)\n",
    "\n",
    "# First 50000 results, recieved as JSON & returned as dict\n",
    "# Columns converted to snake case, special chars removed,\n",
    "# dates and location formatted\n",
    "\n",
    "results = client.get(\"fhrw-4uyv\", limit=1)\n",
    "\n",
    "# Convert to pandas DataFrame\n",
    "records = pd.DataFrame.from_records(results)\n",
    "\n",
    "#print example record\n",
    "print(records)"
   ]
  },
  {
   "cell_type": "code",
   "execution_count": 24,
   "metadata": {},
   "outputs": [
    {
     "name": "stdout",
     "output_type": "stream",
     "text": [
      "              complaint_type  count_complaint_type\n",
      "174      Noise - Residential                230152\n",
      "163           HEAT/HOT WATER                213521\n",
      "164          Illegal Parking                146122\n",
      "203         Blocked Driveway                136097\n",
      "125         Street Condition                 93265\n",
      "149   Street Light Condition                 84195\n",
      "87      UNSANITARY CONDITION                 79282\n",
      "103  Noise - Street/Sidewalk                 73085\n",
      "2               Water System                 65101\n",
      "106                    Noise                 60171\n"
     ]
    }
   ],
   "source": [
    "results = client.get(\"fhrw-4uyv\",\n",
    "                     where=\"created_date BETWEEN '2017-01-01T00:00:00.000' and '2018-01-01T00:00:00.000'\",\n",
    "                     group=\"complaint_type\",\n",
    "                     select=\"complaint_type, count(complaint_type)\")\n",
    "\n",
    "\n",
    "# Convert to pandas DataFrame\n",
    "records = pd.DataFrame.from_records(results)\n",
    "records.count_complaint_type = records.count_complaint_type.astype(int)\n",
    "print(records.sort_values('count_complaint_type', ascending=False)[:10])"
   ]
  },
  {
   "cell_type": "code",
   "execution_count": null,
   "metadata": {},
   "outputs": [],
   "source": []
  }
 ],
 "metadata": {
  "kernelspec": {
   "display_name": "Python 3",
   "language": "python",
   "name": "python3"
  },
  "language_info": {
   "codemirror_mode": {
    "name": "ipython",
    "version": 3
   },
   "file_extension": ".py",
   "mimetype": "text/x-python",
   "name": "python",
   "nbconvert_exporter": "python",
   "pygments_lexer": "ipython3",
   "version": "3.6.3"
  }
 },
 "nbformat": 4,
 "nbformat_minor": 2
}
